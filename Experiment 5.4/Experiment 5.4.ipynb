{
 "cells": [
  {
   "cell_type": "code",
   "execution_count": 1,
   "metadata": {},
   "outputs": [
    {
     "name": "stderr",
     "output_type": "stream",
     "text": [
      "/home/nilmtk/anaconda3/envs/nv/lib/python3.6/importlib/_bootstrap.py:219: RuntimeWarning: numpy.ufunc size changed, may indicate binary incompatibility. Expected 192 from C header, got 216 from PyObject\n",
      "  return f(*args, **kwds)\n",
      "Using TensorFlow backend.\n",
      "/home/nilmtk/anaconda3/envs/nv/lib/python3.6/site-packages/tensorflow/python/framework/dtypes.py:523: FutureWarning: Passing (type, 1) or '1type' as a synonym of type is deprecated; in a future version of numpy, it will be understood as (type, (1,)) / '(1,)type'.\n",
      "  _np_qint8 = np.dtype([(\"qint8\", np.int8, 1)])\n",
      "/home/nilmtk/anaconda3/envs/nv/lib/python3.6/site-packages/tensorflow/python/framework/dtypes.py:524: FutureWarning: Passing (type, 1) or '1type' as a synonym of type is deprecated; in a future version of numpy, it will be understood as (type, (1,)) / '(1,)type'.\n",
      "  _np_quint8 = np.dtype([(\"quint8\", np.uint8, 1)])\n",
      "/home/nilmtk/anaconda3/envs/nv/lib/python3.6/site-packages/tensorflow/python/framework/dtypes.py:525: FutureWarning: Passing (type, 1) or '1type' as a synonym of type is deprecated; in a future version of numpy, it will be understood as (type, (1,)) / '(1,)type'.\n",
      "  _np_qint16 = np.dtype([(\"qint16\", np.int16, 1)])\n",
      "/home/nilmtk/anaconda3/envs/nv/lib/python3.6/site-packages/tensorflow/python/framework/dtypes.py:526: FutureWarning: Passing (type, 1) or '1type' as a synonym of type is deprecated; in a future version of numpy, it will be understood as (type, (1,)) / '(1,)type'.\n",
      "  _np_quint16 = np.dtype([(\"quint16\", np.uint16, 1)])\n",
      "/home/nilmtk/anaconda3/envs/nv/lib/python3.6/site-packages/tensorflow/python/framework/dtypes.py:527: FutureWarning: Passing (type, 1) or '1type' as a synonym of type is deprecated; in a future version of numpy, it will be understood as (type, (1,)) / '(1,)type'.\n",
      "  _np_qint32 = np.dtype([(\"qint32\", np.int32, 1)])\n",
      "/home/nilmtk/anaconda3/envs/nv/lib/python3.6/site-packages/tensorflow/python/framework/dtypes.py:532: FutureWarning: Passing (type, 1) or '1type' as a synonym of type is deprecated; in a future version of numpy, it will be understood as (type, (1,)) / '(1,)type'.\n",
      "  np_resource = np.dtype([(\"resource\", np.ubyte, 1)])\n",
      "/home/nilmtk/anaconda3/envs/nv/lib/python3.6/importlib/_bootstrap.py:219: RuntimeWarning: numpy.ufunc size changed, may indicate binary incompatibility. Expected 216, got 192\n",
      "  return f(*args, **kwds)\n"
     ]
    }
   ],
   "source": [
    "from api import API"
   ]
  },
  {
   "cell_type": "code",
   "execution_count": 2,
   "metadata": {},
   "outputs": [],
   "source": [
    "redd = {\n",
    "  'power': {\n",
    "    'mains': ['apparent','active'],\n",
    "    'appliance': ['apparent','active']\n",
    "  },\n",
    "  'sample_rate': 60,\n",
    "  'appliances': ['washing machine','fridge'],\n",
    "  'methods': {\n",
    "     'Mean': {},'CO':{},'FHMM_EXACT':{'num_of_states':2},\n",
    "     'AFHMM':{},'AFHMM_SAC':{},  \n",
    "     'Seq2Point':{},'Seq2Seq':{},'RNN':{},\n",
    "     'WindowGRU':{},'DAE':{},\n",
    "     'DSC':{},\n",
    "  },\n",
    "    \n",
    "  'train': {\n",
    "    'datasets': {\n",
    "      'UKDALE': {\n",
    "        'path': '/home/nilmtk/nilmtk-contrib/ukdale.h5',\n",
    "        'buildings': {\n",
    "              1: {\n",
    "                'start_time': '2017-01-05',\n",
    "                'end_time': '2017-03-05'\n",
    "              },\n",
    "          \n",
    "        }\n",
    "      },\n",
    "        \n",
    "    }\n",
    "  },\n",
    "    \n",
    "  'test': {\n",
    "    'datasets': {\n",
    "      'DRED': {\n",
    "        'path': '/home/nilmtk/nilmtk-contrib/DRED.h5',\n",
    "        'buildings': {\n",
    "              1: {\n",
    "                    'start_time': '2015-09-21',\n",
    "                    'end_time': '2015-10-01'\n",
    "          }\n",
    "        }\n",
    "      },\n",
    "      'REDD': {\n",
    "        'path': '/home/nilmtk/redd.h5',\n",
    "        'buildings': {\n",
    "              1: {\n",
    "                    'start_time': '2011-04-17',\n",
    "                    'end_time': '2011-04-27'\n",
    "          }\n",
    "        }\n",
    "      }\n",
    "    },\n",
    "    'metrics': ['mae', 'rmse']\n",
    "  }\n",
    "}\n",
    "\n"
   ]
  },
  {
   "cell_type": "code",
   "execution_count": null,
   "metadata": {},
   "outputs": [],
   "source": []
  },
  {
   "cell_type": "code",
   "execution_count": 8,
   "metadata": {},
   "outputs": [
    {
     "name": "stdout",
     "output_type": "stream",
     "text": [
      "Joint Testing for all algorithms\n",
      "Loading data for  DRED  dataset\n",
      "Dropping missing values\n",
      "...............CO disaggregate_chunk running.............\n",
      "Estimating power demand for 'washing machine'\n",
      "Estimating power demand for 'fridge'\n",
      "............  mae  ..............\n",
      "                      Mean         CO  FHMM_EXACT  Seq2Point    Seq2Seq  \\\n",
      "washing machine  25.636555  47.536800   19.048719   2.952924   3.531421   \n",
      "fridge           43.427475  46.193619   32.348988  14.318897  19.334105   \n",
      "\n",
      "                       RNN  WindowGRU        DAE        DSC      AFHMM  \\\n",
      "washing machine  15.699984   6.133693   4.834845  14.460049  97.279251   \n",
      "fridge           29.609776  29.671873  25.945217  31.353842  34.094429   \n",
      "\n",
      "                 AFHMM_SAC  \n",
      "washing machine  19.820820  \n",
      "fridge           30.180618  \n",
      "............  rmse  ..............\n",
      "                      Mean          CO  FHMM_EXACT  Seq2Point    Seq2Seq  \\\n",
      "washing machine  54.964733  129.010483  105.401093  50.461094  49.091133   \n",
      "fridge           45.180870   72.068680   50.871677  24.655777  26.722712   \n",
      "\n",
      "                       RNN  WindowGRU        DAE        DSC       AFHMM  \\\n",
      "washing machine  48.379349  50.051586  50.322708  55.840210  140.576904   \n",
      "fridge           50.111450  51.533577  37.348282  50.150143   52.877316   \n",
      "\n",
      "                 AFHMM_SAC  \n",
      "washing machine  65.028366  \n",
      "fridge           38.751400  \n",
      "Loading data for  REDD  dataset\n",
      "Loading data for meter ElecMeterID(instance=2, building=1, dataset='REDD')     \n",
      "Done loading data all meters for this chunk.\n",
      "Loading data for meter ElecMeterID(instance=20, building=1, dataset='REDD')     \n",
      "Done loading data all meters for this chunk.\n",
      "Dropping missing values\n",
      "...............CO disaggregate_chunk running.............\n",
      "Estimating power demand for 'washing machine'\n",
      "Estimating power demand for 'fridge'\n",
      "............  mae  ..............\n",
      "                      Mean          CO  FHMM_EXACT  Seq2Point    Seq2Seq  \\\n",
      "washing machine  47.244759  172.195831  179.579819  26.147446  32.905220   \n",
      "fridge           62.311844   99.297989   95.931847  42.604412  46.726368   \n",
      "\n",
      "                       RNN  WindowGRU        DAE        DSC       AFHMM  \\\n",
      "washing machine  30.161116  29.773733  44.322979  54.253807  228.094147   \n",
      "fridge           49.380211  38.181190  43.429649  55.841679   66.579033   \n",
      "\n",
      "                 AFHMM_SAC  \n",
      "washing machine  29.545208  \n",
      "fridge           48.964882  \n",
      "............  rmse  ..............\n",
      "                       Mean          CO  FHMM_EXACT   Seq2Point     Seq2Seq  \\\n",
      "washing machine  236.715607  450.632812  361.417816  266.912048  252.686752   \n",
      "fridge            86.095886  130.917801  109.205582   71.480217   69.950859   \n",
      "\n",
      "                        RNN   WindowGRU         DAE         DSC       AFHMM  \\\n",
      "washing machine  105.475067  221.364792  372.683685  200.822998  320.662872   \n",
      "fridge            78.831078   67.378273   67.027596   94.407494   90.992401   \n",
      "\n",
      "                  AFHMM_SAC  \n",
      "washing machine  208.358139  \n",
      "fridge            71.760887  \n"
     ]
    },
    {
     "data": {
      "text/plain": [
       "<api.API at 0x7f2b1dc50198>"
      ]
     },
     "execution_count": 8,
     "metadata": {},
     "output_type": "execute_result"
    }
   ],
   "source": [
    "API(redd)"
   ]
  },
  {
   "cell_type": "code",
   "execution_count": null,
   "metadata": {},
   "outputs": [],
   "source": []
  },
  {
   "cell_type": "code",
   "execution_count": null,
   "metadata": {},
   "outputs": [],
   "source": []
  },
  {
   "cell_type": "code",
   "execution_count": 4,
   "metadata": {},
   "outputs": [],
   "source": []
  },
  {
   "cell_type": "code",
   "execution_count": 4,
   "metadata": {},
   "outputs": [],
   "source": []
  },
  {
   "cell_type": "code",
   "execution_count": 4,
   "metadata": {},
   "outputs": [],
   "source": []
  },
  {
   "cell_type": "code",
   "execution_count": 4,
   "metadata": {},
   "outputs": [],
   "source": []
  },
  {
   "cell_type": "code",
   "execution_count": 4,
   "metadata": {},
   "outputs": [],
   "source": []
  },
  {
   "cell_type": "code",
   "execution_count": 4,
   "metadata": {},
   "outputs": [],
   "source": []
  },
  {
   "cell_type": "code",
   "execution_count": 4,
   "metadata": {},
   "outputs": [],
   "source": []
  },
  {
   "cell_type": "code",
   "execution_count": 4,
   "metadata": {},
   "outputs": [],
   "source": []
  },
  {
   "cell_type": "code",
   "execution_count": 4,
   "metadata": {},
   "outputs": [],
   "source": [
    "\n"
   ]
  },
  {
   "cell_type": "code",
   "execution_count": 4,
   "metadata": {},
   "outputs": [],
   "source": []
  },
  {
   "cell_type": "code",
   "execution_count": 3,
   "metadata": {},
   "outputs": [],
   "source": [
    "redd = {\n",
    "  'power': {\n",
    "    'mains': ['apparent','active'],\n",
    "    'appliance': ['apparent','active']\n",
    "  },\n",
    "  'sample_rate': 60,\n",
    "  'appliances': ['washing machine','fridge'],\n",
    "  'methods': {\n",
    "     'Mean': {},'CO':{},'FHMM_EXACT':{'num_of_states':2},\n",
    "     'AFHMM':{},'AFHMM_SAC':{},  \n",
    "     'Seq2Point':{},'Seq2Seq':{},'RNN':{},\n",
    "     'WindowGRU':{},'DAE':{},\n",
    "     'DSC':{},\n",
    "  },\n",
    "    \n",
    "  'train': {\n",
    "    'datasets': {\n",
    "      'UKDALE': {\n",
    "        'path': '/data/UKDALE/ukdale.h5',\n",
    "        'buildings': {\n",
    "              1: {\n",
    "                'start_time': '2017-01-05',\n",
    "                'end_time': '2017-03-05'\n",
    "              },          \n",
    "        }\n",
    "      },\n",
    "        \n",
    "    }\n",
    "  },    \n",
    "  'test': {\n",
    "    'datasets': {\n",
    "      'DRED': {\n",
    "        'path': '/data/DRED/DRED.h5',\n",
    "        'buildings': {\n",
    "              1: {\n",
    "                    'start_time': '2015-09-21',\n",
    "                    'end_time': '2015-10-01'\n",
    "          }\n",
    "        }\n",
    "      },\n",
    "      'REDD': {\n",
    "        'path': '/data/REDD/redd.h5',\n",
    "        'buildings': {\n",
    "              1: {\n",
    "                    'start_time': '2011-04-17',\n",
    "                    'end_time': '2011-04-27'\n",
    "          }\n",
    "        }\n",
    "      }\n",
    "    },\n",
    "    'metrics': ['mae', 'rmse']\n",
    "  }\n",
    "}\n",
    "\n"
   ]
  },
  {
   "cell_type": "code",
   "execution_count": null,
   "metadata": {},
   "outputs": [],
   "source": []
  }
 ],
 "metadata": {
  "kernelspec": {
   "display_name": "Python 3",
   "language": "python",
   "name": "python3"
  },
  "language_info": {
   "codemirror_mode": {
    "name": "ipython",
    "version": 3
   },
   "file_extension": ".py",
   "mimetype": "text/x-python",
   "name": "python",
   "nbconvert_exporter": "python",
   "pygments_lexer": "ipython3",
   "version": "3.7.3"
  }
 },
 "nbformat": 4,
 "nbformat_minor": 1
}
